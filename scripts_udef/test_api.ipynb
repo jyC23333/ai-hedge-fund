{
 "cells": [
  {
   "cell_type": "code",
   "execution_count": 3,
   "metadata": {},
   "outputs": [
    {
     "data": {
      "text/plain": [
       "True"
      ]
     },
     "execution_count": 3,
     "metadata": {},
     "output_type": "execute_result"
    }
   ],
   "source": [
    "from src.data.models import (\n",
    "    CompanyNews,\n",
    "    CompanyNewsResponse,\n",
    "    FinancialMetrics,\n",
    "    FinancialMetricsResponse,\n",
    "    Price,\n",
    "    PriceResponse,\n",
    "    LineItem,\n",
    "    LineItemResponse,\n",
    "    InsiderTrade,\n",
    "    InsiderTradeResponse,\n",
    ")\n",
    "import os\n",
    "import requests\n",
    "\n",
    "from dotenv import load_dotenv\n",
    "\n",
    "load_dotenv()\n"
   ]
  },
  {
   "cell_type": "code",
   "execution_count": 15,
   "metadata": {},
   "outputs": [],
   "source": [
    "\n",
    "headers = {}\n",
    "if api_key := os.environ.get(\"FINANCIAL_DATASETS_API_KEY\"):\n",
    "    headers[\"X-API-KEY\"] = api_key\n",
    "\n",
    "\n",
    "ticker = \"AAPL\"\n",
    "start_date = \"2024-01-04\"\n",
    "end_date = \"2024-01-05\"\n",
    "url = f\"https://api.financialdatasets.ai/prices/?ticker={ticker}&interval=day&interval_multiplier=1&start_date={start_date}&end_date={end_date}\"\n",
    "\n",
    "response = requests.get(url, headers=headers)\n",
    "if response.status_code != 200:\n",
    "    raise Exception(f\"Error fetching data: {ticker} - {response.status_code} - {response.text}\")\n",
    "\n",
    "# Parse response with Pydantic model\n",
    "price_response = PriceResponse(**response.json())\n",
    "prices = price_response.prices"
   ]
  },
  {
   "cell_type": "code",
   "execution_count": 16,
   "metadata": {},
   "outputs": [
    {
     "name": "stdout",
     "output_type": "stream",
     "text": [
      "{'ticker': 'AAPL', 'prices': [{'ticker': 'AAPL', 'open': 182.15, 'close': 181.91, 'high': 183.09, 'low': 180.88, 'volume': 71878670, 'time': '2024-01-04T05:00:00Z'}, {'ticker': 'AAPL', 'open': 181.99, 'close': 181.18, 'high': 182.76, 'low': 180.17, 'volume': 62371161, 'time': '2024-01-05T05:00:00Z'}]}\n"
     ]
    }
   ],
   "source": [
    "print(response.json())"
   ]
  },
  {
   "cell_type": "code",
   "execution_count": 36,
   "metadata": {},
   "outputs": [
    {
     "name": "stderr",
     "output_type": "stream",
     "text": [
      "[*********************100%***********************]  1 of 1 completed"
     ]
    },
    {
     "name": "stdout",
     "output_type": "stream",
     "text": [
      "<class 'str'> Price   Ticker\n",
      "Close   AAPL      1.808244e+02\n",
      "High    AAPL      1.819973e+02\n",
      "Low     AAPL      1.798005e+02\n",
      "Open    AAPL      1.810629e+02\n",
      "Volume  AAPL      7.198360e+07\n",
      "Name: 2024-01-04 00:00:00, dtype: float64\n"
     ]
    },
    {
     "name": "stderr",
     "output_type": "stream",
     "text": [
      "\n"
     ]
    }
   ],
   "source": [
    "import yfinance as yf\n",
    "\n",
    "ticker = \"AAPL\"\n",
    "start_date = \"2024-01-04\"\n",
    "end_date = \"2024-01-05\"\n",
    "data = yf.download(ticker, start=start_date, end=end_date)\n",
    "for index, row in data.iterrows():\n",
    "    print(type(index.strftime(\"%Y-%m-%d\")), row)"
   ]
  },
  {
   "cell_type": "code",
   "execution_count": null,
   "metadata": {},
   "outputs": [],
   "source": []
  }
 ],
 "metadata": {
  "kernelspec": {
   "display_name": "hedge-fund",
   "language": "python",
   "name": "python3"
  },
  "language_info": {
   "codemirror_mode": {
    "name": "ipython",
    "version": 3
   },
   "file_extension": ".py",
   "mimetype": "text/x-python",
   "name": "python",
   "nbconvert_exporter": "python",
   "pygments_lexer": "ipython3",
   "version": "3.12.9"
  }
 },
 "nbformat": 4,
 "nbformat_minor": 2
}
